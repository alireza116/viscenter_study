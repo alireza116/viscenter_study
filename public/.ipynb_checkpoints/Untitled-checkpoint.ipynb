{
 "cells": [
  {
   "cell_type": "code",
   "execution_count": 1,
   "metadata": {
    "collapsed": true
   },
   "outputs": [],
   "source": [
    "import csv"
   ]
  },
  {
   "cell_type": "code",
   "execution_count": 2,
   "metadata": {
    "collapsed": true
   },
   "outputs": [],
   "source": [
    "data = []\n",
    "with open(\"acs_16_poverty_clean.csv\") as csvFile:\n",
    "    csvReader = csv.DictReader(csvFile)\n",
    "    for line in csvReader:\n",
    "        data.append(line)"
   ]
  },
  {
   "cell_type": "code",
   "execution_count": 10,
   "metadata": {},
   "outputs": [],
   "source": [
    "for d in data:\n",
    "    for key in list(d.keys()):\n",
    "        if \"Margin\" in key:\n",
    "            del d[key]"
   ]
  },
  {
   "cell_type": "code",
   "execution_count": 11,
   "metadata": {},
   "outputs": [
    {
     "data": {
      "text/plain": [
       "OrderedDict([('Id', '0500000US01001'),\n",
       "             ('Id2', '1001'),\n",
       "             ('Geography', 'Autauga County, Alabama'),\n",
       "             ('total', '54598'),\n",
       "             ('below_poverty', '6697'),\n",
       "             ('percent_below_poverty', '12.3'),\n",
       "             ('Total_Estimate_race_White_alone', '42030'),\n",
       "             ('race_White_alone', '3906'),\n",
       "             ('Percent_race_White_alone', '9.3'),\n",
       "             ('Total_Estimate_race_Black_or_African_American_alone', '10089'),\n",
       "             ('race_Black_or_African_American_alone', '2603'),\n",
       "             ('Percent_race_Black_or_African_American_alone', '25.8'),\n",
       "             ('Total_Estimate_race_American_Indian_and_Alaska_Native_alone',\n",
       "              '212'),\n",
       "             ('race_American_Indian_and_Alaska_Native_alone', '84'),\n",
       "             ('Percent_race_American_Indian_and_Alaska_Native_alone', '39.6'),\n",
       "             ('Total_Estimate_race_Asian_alone', '444'),\n",
       "             ('race_Asian_alone', '61'),\n",
       "             ('Percent_race_Asian_alone', '13.7'),\n",
       "             ('Total_Estimate_race_Native_Hawaiian_and_Other_Pacific_Islander_alone',\n",
       "              '31'),\n",
       "             ('race_Native_Hawaiian_and_Other_Pacific_Islander_alone', '0'),\n",
       "             ('Percent_race_Native_Hawaiian_and_Other_Pacific_Islander_alone',\n",
       "              '0'),\n",
       "             ('Total_Estimate_race_Some_other_race_alone', '760'),\n",
       "             ('race_Some_other_race_alone', '1'),\n",
       "             ('Percent_race_Some_other_race_alone', '0.1'),\n",
       "             ('Total_Estimate_race_Two_or_more_races', '1032'),\n",
       "             ('race_Two_or_more_races', '42'),\n",
       "             ('Percent_race_Two_or_more_races', '4.1'),\n",
       "             ('Total_Estimate_Hispanic_or_Latino_origin_(of_any_race)',\n",
       "              '1412'),\n",
       "             ('Below_poverty_level_Estimate_Hispanic_or_Latino_origin_(of_any_race)',\n",
       "              '161'),\n",
       "             ('Percent_below_poverty_level_Estimate_Hispanic_or_Latino_origin_(of_any_race)',\n",
       "              '11.4'),\n",
       "             ('Total_Estimate_White_alone,_not_Hispanic_or_Latino', '41382'),\n",
       "             ('Below_poverty_level_Estimate_White_alone,_not_Hispanic_or_Latino',\n",
       "              '3746'),\n",
       "             ('Percent_below_poverty_level_Estimate_White_alone,_not_Hispanic_or_Latino',\n",
       "              '9.1')])"
      ]
     },
     "execution_count": 11,
     "metadata": {},
     "output_type": "execute_result"
    }
   ],
   "source": [
    "data[0]"
   ]
  },
  {
   "cell_type": "code",
   "execution_count": 34,
   "metadata": {},
   "outputs": [],
   "source": [
    "for d in data:\n",
    "    for key in d:\n",
    "        if key not in [\"Id\",\"Id2\",\"Geography\"]:\n",
    "            try:\n",
    "                d[key] = float(d[key])\n",
    "            except:\n",
    "                d[key] = 0"
   ]
  },
  {
   "cell_type": "code",
   "execution_count": 35,
   "metadata": {},
   "outputs": [
    {
     "data": {
      "text/plain": [
       "odict_keys(['Id', 'Id2', 'Geography', 'total', 'below_poverty', 'percent_below_poverty', 'Total_Estimate_race_White_alone', 'race_White_alone', 'Percent_race_White_alone', 'Total_Estimate_race_Black_or_African_American_alone', 'race_Black_or_African_American_alone', 'Percent_race_Black_or_African_American_alone', 'Total_Estimate_race_American_Indian_and_Alaska_Native_alone', 'race_American_Indian_and_Alaska_Native_alone', 'Percent_race_American_Indian_and_Alaska_Native_alone', 'Total_Estimate_race_Asian_alone', 'race_Asian_alone', 'Percent_race_Asian_alone', 'Total_Estimate_race_Native_Hawaiian_and_Other_Pacific_Islander_alone', 'race_Native_Hawaiian_and_Other_Pacific_Islander_alone', 'Percent_race_Native_Hawaiian_and_Other_Pacific_Islander_alone', 'Total_Estimate_race_Some_other_race_alone', 'race_Some_other_race_alone', 'Percent_race_Some_other_race_alone', 'Total_Estimate_race_Two_or_more_races', 'race_Two_or_more_races', 'Percent_race_Two_or_more_races', 'Total_Estimate_Hispanic_or_Latino_origin_(of_any_race)', 'Below_poverty_level_Estimate_Hispanic_or_Latino_origin_(of_any_race)', 'Percent_below_poverty_level_Estimate_Hispanic_or_Latino_origin_(of_any_race)', 'Total_Estimate_White_alone,_not_Hispanic_or_Latino', 'Below_poverty_level_Estimate_White_alone,_not_Hispanic_or_Latino', 'Percent_below_poverty_level_Estimate_White_alone,_not_Hispanic_or_Latino'])"
      ]
     },
     "execution_count": 35,
     "metadata": {},
     "output_type": "execute_result"
    }
   ],
   "source": [
    "data[0].keys()"
   ]
  },
  {
   "cell_type": "code",
   "execution_count": 37,
   "metadata": {},
   "outputs": [],
   "source": [
    "with open(\"cleanData.csv\",\"w\") as csvFile:\n",
    "    csvWriter = csv.DictWriter(csvFile,fieldnames = data[0].keys(),lineterminator = \"\\n\")\n",
    "    csvWriter.writeheader()\n",
    "    csvWriter.writerows(data)"
   ]
  },
  {
   "cell_type": "code",
   "execution_count": null,
   "metadata": {
    "collapsed": true
   },
   "outputs": [],
   "source": []
  }
 ],
 "metadata": {
  "kernelspec": {
   "display_name": "Python 3",
   "language": "python",
   "name": "python3"
  },
  "language_info": {
   "codemirror_mode": {
    "name": "ipython",
    "version": 3
   },
   "file_extension": ".py",
   "mimetype": "text/x-python",
   "name": "python",
   "nbconvert_exporter": "python",
   "pygments_lexer": "ipython3",
   "version": "3.6.1"
  }
 },
 "nbformat": 4,
 "nbformat_minor": 2
}
